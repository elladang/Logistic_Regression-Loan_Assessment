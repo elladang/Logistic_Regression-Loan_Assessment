{
 "cells": [
  {
   "cell_type": "markdown",
   "metadata": {},
   "source": [
    "This dataset consists of information on 5,960 mortgage loans at a bank. These are loans where the borrower uses their property as collateral. The dataset includes the following fields:\n",
    "\n",
    "    BAD: 1 = Loan record is delinquent or defaulted; 0 = Loan record is performing or paying off. => This is the target column to predict.\n",
    "    LOAN: The requested loan amount.\n",
    "    MORTDUE: The outstanding balance of the existing mortgage.\n",
    "    VALUE: The current property value.\n",
    "    REASON: DebtCon = debt consolidation; HomeImp = home improvement.\n",
    "    JOB: Occupation.\n",
    "    YOJ: Years of experience in the current job.\n",
    "    DEROG: The number of derogatory reports (negative credit events).\n",
    "    DELINQ: The number of overdue credit loans.\n",
    "    CLAGE: The age of the oldest credit loan in months.\n",
    "    NINQ: The number of recent credit inquiries.\n",
    "    CLNO: The number of current credit loans.\n",
    "    DEBTINC: The debt-to-income ratio.\n",
    "    Goal: Build a logistic regression model to predict whether a loan will fall into label 1 (default) or label 0 (likely to repay)."
   ]
  },
  {
   "cell_type": "code",
   "execution_count": 1,
   "metadata": {},
   "outputs": [],
   "source": [
    "import pandas as pd\n",
    "import seaborn as sns"
   ]
  },
  {
   "cell_type": "markdown",
   "metadata": {},
   "source": [
    "I. EDA"
   ]
  },
  {
   "cell_type": "code",
   "execution_count": 3,
   "metadata": {},
   "outputs": [
    {
     "data": {
      "text/html": [
       "<div>\n",
       "<style scoped>\n",
       "    .dataframe tbody tr th:only-of-type {\n",
       "        vertical-align: middle;\n",
       "    }\n",
       "\n",
       "    .dataframe tbody tr th {\n",
       "        vertical-align: top;\n",
       "    }\n",
       "\n",
       "    .dataframe thead th {\n",
       "        text-align: right;\n",
       "    }\n",
       "</style>\n",
       "<table border=\"1\" class=\"dataframe\">\n",
       "  <thead>\n",
       "    <tr style=\"text-align: right;\">\n",
       "      <th></th>\n",
       "      <th>BAD</th>\n",
       "      <th>LOAN</th>\n",
       "      <th>MORTDUE</th>\n",
       "      <th>VALUE</th>\n",
       "      <th>REASON</th>\n",
       "      <th>JOB</th>\n",
       "      <th>YOJ</th>\n",
       "      <th>DEROG</th>\n",
       "      <th>DELINQ</th>\n",
       "      <th>CLAGE</th>\n",
       "      <th>NINQ</th>\n",
       "      <th>CLNO</th>\n",
       "      <th>DEBTINC</th>\n",
       "    </tr>\n",
       "  </thead>\n",
       "  <tbody>\n",
       "    <tr>\n",
       "      <th>0</th>\n",
       "      <td>1</td>\n",
       "      <td>1100</td>\n",
       "      <td>25860.0</td>\n",
       "      <td>39025.0</td>\n",
       "      <td>HomeImp</td>\n",
       "      <td>Other</td>\n",
       "      <td>10.5</td>\n",
       "      <td>0.0</td>\n",
       "      <td>0.0</td>\n",
       "      <td>94.366667</td>\n",
       "      <td>1.0</td>\n",
       "      <td>9.0</td>\n",
       "      <td>NaN</td>\n",
       "    </tr>\n",
       "    <tr>\n",
       "      <th>1</th>\n",
       "      <td>1</td>\n",
       "      <td>1300</td>\n",
       "      <td>70053.0</td>\n",
       "      <td>68400.0</td>\n",
       "      <td>HomeImp</td>\n",
       "      <td>Other</td>\n",
       "      <td>7.0</td>\n",
       "      <td>0.0</td>\n",
       "      <td>2.0</td>\n",
       "      <td>121.833333</td>\n",
       "      <td>0.0</td>\n",
       "      <td>14.0</td>\n",
       "      <td>NaN</td>\n",
       "    </tr>\n",
       "    <tr>\n",
       "      <th>2</th>\n",
       "      <td>1</td>\n",
       "      <td>1500</td>\n",
       "      <td>13500.0</td>\n",
       "      <td>16700.0</td>\n",
       "      <td>HomeImp</td>\n",
       "      <td>Other</td>\n",
       "      <td>4.0</td>\n",
       "      <td>0.0</td>\n",
       "      <td>0.0</td>\n",
       "      <td>149.466667</td>\n",
       "      <td>1.0</td>\n",
       "      <td>10.0</td>\n",
       "      <td>NaN</td>\n",
       "    </tr>\n",
       "    <tr>\n",
       "      <th>3</th>\n",
       "      <td>1</td>\n",
       "      <td>1500</td>\n",
       "      <td>NaN</td>\n",
       "      <td>NaN</td>\n",
       "      <td>NaN</td>\n",
       "      <td>NaN</td>\n",
       "      <td>NaN</td>\n",
       "      <td>NaN</td>\n",
       "      <td>NaN</td>\n",
       "      <td>NaN</td>\n",
       "      <td>NaN</td>\n",
       "      <td>NaN</td>\n",
       "      <td>NaN</td>\n",
       "    </tr>\n",
       "    <tr>\n",
       "      <th>4</th>\n",
       "      <td>0</td>\n",
       "      <td>1700</td>\n",
       "      <td>97800.0</td>\n",
       "      <td>112000.0</td>\n",
       "      <td>HomeImp</td>\n",
       "      <td>Office</td>\n",
       "      <td>3.0</td>\n",
       "      <td>0.0</td>\n",
       "      <td>0.0</td>\n",
       "      <td>93.333333</td>\n",
       "      <td>0.0</td>\n",
       "      <td>14.0</td>\n",
       "      <td>NaN</td>\n",
       "    </tr>\n",
       "  </tbody>\n",
       "</table>\n",
       "</div>"
      ],
      "text/plain": [
       "   BAD  LOAN  MORTDUE     VALUE   REASON     JOB   YOJ  DEROG  DELINQ  \\\n",
       "0    1  1100  25860.0   39025.0  HomeImp   Other  10.5    0.0     0.0   \n",
       "1    1  1300  70053.0   68400.0  HomeImp   Other   7.0    0.0     2.0   \n",
       "2    1  1500  13500.0   16700.0  HomeImp   Other   4.0    0.0     0.0   \n",
       "3    1  1500      NaN       NaN      NaN     NaN   NaN    NaN     NaN   \n",
       "4    0  1700  97800.0  112000.0  HomeImp  Office   3.0    0.0     0.0   \n",
       "\n",
       "        CLAGE  NINQ  CLNO  DEBTINC  \n",
       "0   94.366667   1.0   9.0      NaN  \n",
       "1  121.833333   0.0  14.0      NaN  \n",
       "2  149.466667   1.0  10.0      NaN  \n",
       "3         NaN   NaN   NaN      NaN  \n",
       "4   93.333333   0.0  14.0      NaN  "
      ]
     },
     "execution_count": 3,
     "metadata": {},
     "output_type": "execute_result"
    }
   ],
   "source": [
    "df = pd.read_csv(\"hmeq.csv\")\n",
    "df.head()"
   ]
  },
  {
   "cell_type": "code",
   "execution_count": 7,
   "metadata": {},
   "outputs": [
    {
     "data": {
      "text/plain": [
       "(5960, 13)"
      ]
     },
     "execution_count": 7,
     "metadata": {},
     "output_type": "execute_result"
    }
   ],
   "source": [
    "df.shape"
   ]
  },
  {
   "cell_type": "code",
   "execution_count": 5,
   "metadata": {},
   "outputs": [
    {
     "data": {
      "text/plain": [
       "BAD           0\n",
       "LOAN          0\n",
       "MORTDUE     518\n",
       "VALUE       112\n",
       "REASON      252\n",
       "JOB         279\n",
       "YOJ         515\n",
       "DEROG       708\n",
       "DELINQ      580\n",
       "CLAGE       308\n",
       "NINQ        510\n",
       "CLNO        222\n",
       "DEBTINC    1267\n",
       "dtype: int64"
      ]
     },
     "execution_count": 5,
     "metadata": {},
     "output_type": "execute_result"
    }
   ],
   "source": [
    "df.isna().sum()"
   ]
  },
  {
   "cell_type": "code",
   "execution_count": 8,
   "metadata": {},
   "outputs": [
    {
     "data": {
      "text/plain": [
       "BAD        0.000000\n",
       "LOAN       0.000000\n",
       "MORTDUE    0.086913\n",
       "VALUE      0.018792\n",
       "REASON     0.042282\n",
       "JOB        0.046812\n",
       "YOJ        0.086409\n",
       "DEROG      0.118792\n",
       "DELINQ     0.097315\n",
       "CLAGE      0.051678\n",
       "NINQ       0.085570\n",
       "CLNO       0.037248\n",
       "DEBTINC    0.212584\n",
       "dtype: float64"
      ]
     },
     "execution_count": 8,
     "metadata": {},
     "output_type": "execute_result"
    }
   ],
   "source": [
    "df.isna().sum()/df.shape[0]"
   ]
  },
  {
   "cell_type": "code",
   "execution_count": 4,
   "metadata": {},
   "outputs": [
    {
     "data": {
      "text/html": [
       "<div>\n",
       "<style scoped>\n",
       "    .dataframe tbody tr th:only-of-type {\n",
       "        vertical-align: middle;\n",
       "    }\n",
       "\n",
       "    .dataframe tbody tr th {\n",
       "        vertical-align: top;\n",
       "    }\n",
       "\n",
       "    .dataframe thead th {\n",
       "        text-align: right;\n",
       "    }\n",
       "</style>\n",
       "<table border=\"1\" class=\"dataframe\">\n",
       "  <thead>\n",
       "    <tr style=\"text-align: right;\">\n",
       "      <th></th>\n",
       "      <th>BAD</th>\n",
       "      <th>LOAN</th>\n",
       "      <th>MORTDUE</th>\n",
       "      <th>VALUE</th>\n",
       "      <th>YOJ</th>\n",
       "      <th>DEROG</th>\n",
       "      <th>DELINQ</th>\n",
       "      <th>CLAGE</th>\n",
       "      <th>NINQ</th>\n",
       "      <th>CLNO</th>\n",
       "      <th>DEBTINC</th>\n",
       "    </tr>\n",
       "  </thead>\n",
       "  <tbody>\n",
       "    <tr>\n",
       "      <th>count</th>\n",
       "      <td>5960.000000</td>\n",
       "      <td>5960.000000</td>\n",
       "      <td>5442.000000</td>\n",
       "      <td>5848.000000</td>\n",
       "      <td>5445.000000</td>\n",
       "      <td>5252.000000</td>\n",
       "      <td>5380.000000</td>\n",
       "      <td>5652.000000</td>\n",
       "      <td>5450.000000</td>\n",
       "      <td>5738.000000</td>\n",
       "      <td>4693.000000</td>\n",
       "    </tr>\n",
       "    <tr>\n",
       "      <th>mean</th>\n",
       "      <td>0.199497</td>\n",
       "      <td>18607.969799</td>\n",
       "      <td>73760.817200</td>\n",
       "      <td>101776.048741</td>\n",
       "      <td>8.922268</td>\n",
       "      <td>0.254570</td>\n",
       "      <td>0.449442</td>\n",
       "      <td>179.766275</td>\n",
       "      <td>1.186055</td>\n",
       "      <td>21.296096</td>\n",
       "      <td>33.779915</td>\n",
       "    </tr>\n",
       "    <tr>\n",
       "      <th>std</th>\n",
       "      <td>0.399656</td>\n",
       "      <td>11207.480417</td>\n",
       "      <td>44457.609458</td>\n",
       "      <td>57385.775334</td>\n",
       "      <td>7.573982</td>\n",
       "      <td>0.846047</td>\n",
       "      <td>1.127266</td>\n",
       "      <td>85.810092</td>\n",
       "      <td>1.728675</td>\n",
       "      <td>10.138933</td>\n",
       "      <td>8.601746</td>\n",
       "    </tr>\n",
       "    <tr>\n",
       "      <th>min</th>\n",
       "      <td>0.000000</td>\n",
       "      <td>1100.000000</td>\n",
       "      <td>2063.000000</td>\n",
       "      <td>8000.000000</td>\n",
       "      <td>0.000000</td>\n",
       "      <td>0.000000</td>\n",
       "      <td>0.000000</td>\n",
       "      <td>0.000000</td>\n",
       "      <td>0.000000</td>\n",
       "      <td>0.000000</td>\n",
       "      <td>0.524499</td>\n",
       "    </tr>\n",
       "    <tr>\n",
       "      <th>25%</th>\n",
       "      <td>0.000000</td>\n",
       "      <td>11100.000000</td>\n",
       "      <td>46276.000000</td>\n",
       "      <td>66075.500000</td>\n",
       "      <td>3.000000</td>\n",
       "      <td>0.000000</td>\n",
       "      <td>0.000000</td>\n",
       "      <td>115.116702</td>\n",
       "      <td>0.000000</td>\n",
       "      <td>15.000000</td>\n",
       "      <td>29.140031</td>\n",
       "    </tr>\n",
       "    <tr>\n",
       "      <th>50%</th>\n",
       "      <td>0.000000</td>\n",
       "      <td>16300.000000</td>\n",
       "      <td>65019.000000</td>\n",
       "      <td>89235.500000</td>\n",
       "      <td>7.000000</td>\n",
       "      <td>0.000000</td>\n",
       "      <td>0.000000</td>\n",
       "      <td>173.466667</td>\n",
       "      <td>1.000000</td>\n",
       "      <td>20.000000</td>\n",
       "      <td>34.818262</td>\n",
       "    </tr>\n",
       "    <tr>\n",
       "      <th>75%</th>\n",
       "      <td>0.000000</td>\n",
       "      <td>23300.000000</td>\n",
       "      <td>91488.000000</td>\n",
       "      <td>119824.250000</td>\n",
       "      <td>13.000000</td>\n",
       "      <td>0.000000</td>\n",
       "      <td>0.000000</td>\n",
       "      <td>231.562278</td>\n",
       "      <td>2.000000</td>\n",
       "      <td>26.000000</td>\n",
       "      <td>39.003141</td>\n",
       "    </tr>\n",
       "    <tr>\n",
       "      <th>max</th>\n",
       "      <td>1.000000</td>\n",
       "      <td>89900.000000</td>\n",
       "      <td>399550.000000</td>\n",
       "      <td>855909.000000</td>\n",
       "      <td>41.000000</td>\n",
       "      <td>10.000000</td>\n",
       "      <td>15.000000</td>\n",
       "      <td>1168.233561</td>\n",
       "      <td>17.000000</td>\n",
       "      <td>71.000000</td>\n",
       "      <td>203.312149</td>\n",
       "    </tr>\n",
       "  </tbody>\n",
       "</table>\n",
       "</div>"
      ],
      "text/plain": [
       "               BAD          LOAN        MORTDUE          VALUE          YOJ  \\\n",
       "count  5960.000000   5960.000000    5442.000000    5848.000000  5445.000000   \n",
       "mean      0.199497  18607.969799   73760.817200  101776.048741     8.922268   \n",
       "std       0.399656  11207.480417   44457.609458   57385.775334     7.573982   \n",
       "min       0.000000   1100.000000    2063.000000    8000.000000     0.000000   \n",
       "25%       0.000000  11100.000000   46276.000000   66075.500000     3.000000   \n",
       "50%       0.000000  16300.000000   65019.000000   89235.500000     7.000000   \n",
       "75%       0.000000  23300.000000   91488.000000  119824.250000    13.000000   \n",
       "max       1.000000  89900.000000  399550.000000  855909.000000    41.000000   \n",
       "\n",
       "             DEROG       DELINQ        CLAGE         NINQ         CLNO  \\\n",
       "count  5252.000000  5380.000000  5652.000000  5450.000000  5738.000000   \n",
       "mean      0.254570     0.449442   179.766275     1.186055    21.296096   \n",
       "std       0.846047     1.127266    85.810092     1.728675    10.138933   \n",
       "min       0.000000     0.000000     0.000000     0.000000     0.000000   \n",
       "25%       0.000000     0.000000   115.116702     0.000000    15.000000   \n",
       "50%       0.000000     0.000000   173.466667     1.000000    20.000000   \n",
       "75%       0.000000     0.000000   231.562278     2.000000    26.000000   \n",
       "max      10.000000    15.000000  1168.233561    17.000000    71.000000   \n",
       "\n",
       "           DEBTINC  \n",
       "count  4693.000000  \n",
       "mean     33.779915  \n",
       "std       8.601746  \n",
       "min       0.524499  \n",
       "25%      29.140031  \n",
       "50%      34.818262  \n",
       "75%      39.003141  \n",
       "max     203.312149  "
      ]
     },
     "execution_count": 4,
     "metadata": {},
     "output_type": "execute_result"
    }
   ],
   "source": [
    "df.describe()"
   ]
  },
  {
   "cell_type": "markdown",
   "metadata": {},
   "source": [
    "\n",
    "In this case, 11 out of 13 columns contain missing data, with the missing rate for each column being ≤ 21%. I can still use the columns with missing data by imputing the missing values. For numerical columns, I will replace the missing values with the mean, and for categorical columns, we will replace the missing values with the mode (most frequent value)"
   ]
  },
  {
   "cell_type": "markdown",
   "metadata": {},
   "source": [
    "II. FEATURE ENGINEERING"
   ]
  },
  {
   "cell_type": "markdown",
   "metadata": {},
   "source": [
    "Train validation split\n"
   ]
  },
  {
   "cell_type": "code",
   "execution_count": 9,
   "metadata": {},
   "outputs": [],
   "source": [
    "from sklearn.model_selection import train_test_split"
   ]
  },
  {
   "cell_type": "code",
   "execution_count": 10,
   "metadata": {},
   "outputs": [],
   "source": [
    "X_train,X_val,y_train,y_val = train_test_split(df.drop(columns=['BAD']),df['BAD'],test_size=0.2,random_state = 100,shuffle=True)"
   ]
  },
  {
   "cell_type": "code",
   "execution_count": 11,
   "metadata": {},
   "outputs": [
    {
     "data": {
      "text/plain": [
       "BAD          int64\n",
       "LOAN         int64\n",
       "MORTDUE    float64\n",
       "VALUE      float64\n",
       "REASON      object\n",
       "JOB         object\n",
       "YOJ        float64\n",
       "DEROG      float64\n",
       "DELINQ     float64\n",
       "CLAGE      float64\n",
       "NINQ       float64\n",
       "CLNO       float64\n",
       "DEBTINC    float64\n",
       "dtype: object"
      ]
     },
     "execution_count": 11,
     "metadata": {},
     "output_type": "execute_result"
    }
   ],
   "source": [
    "df.dtypes"
   ]
  },
  {
   "cell_type": "code",
   "execution_count": 12,
   "metadata": {},
   "outputs": [],
   "source": [
    "cat_cols = ['REASON','JOB']\n",
    "num_cols = ['LOAN','MORTDUE','VALUE','YOJ','DEROG','DELINQ','CLAGE','NINQ','CLNO','DEBTINC']"
   ]
  },
  {
   "cell_type": "code",
   "execution_count": 13,
   "metadata": {},
   "outputs": [],
   "source": [
    "# Impute missing values for categorical columns with the mode value of the column in X_train.\n",
    "for col in cat_cols:\n",
    "  X_train[col] = X_train[col].fillna(X_train[col].mode()[0])\n",
    "  X_val[col] = X_val[col].fillna(X_train[col].mode()[0])"
   ]
  },
  {
   "cell_type": "code",
   "execution_count": 14,
   "metadata": {},
   "outputs": [],
   "source": [
    "# Impute missing values for numerical columns with the mean value of the column in X_train.\n",
    "for col in num_cols:\n",
    "  X_train[col] = X_train[col].fillna(X_train[col].mean())\n",
    "  X_val[col] = X_val[col].fillna(X_train[col].mean())"
   ]
  },
  {
   "cell_type": "markdown",
   "metadata": {},
   "source": [
    "One hot encoding"
   ]
  },
  {
   "cell_type": "code",
   "execution_count": 15,
   "metadata": {},
   "outputs": [],
   "source": [
    "X_train = pd.get_dummies(X_train,columns=cat_cols,drop_first=True)\n",
    "X_val = pd.get_dummies(X_val,columns=cat_cols,drop_first=True)"
   ]
  },
  {
   "cell_type": "markdown",
   "metadata": {},
   "source": [
    "III. MODELING"
   ]
  },
  {
   "cell_type": "code",
   "execution_count": 22,
   "metadata": {},
   "outputs": [],
   "source": [
    "import statsmodels.api as sm"
   ]
  },
  {
   "cell_type": "code",
   "execution_count": 19,
   "metadata": {},
   "outputs": [
    {
     "name": "stderr",
     "output_type": "stream",
     "text": [
      "/var/folders/k7/rljyypp9343__2xr47zglj2c0000gn/T/ipykernel_59960/3981204416.py:1: FutureWarning: DataFrame.applymap has been deprecated. Use DataFrame.map instead.\n",
      "  X_train = X_train.applymap(lambda x: 1 if x == True else (0 if x == False else x))\n",
      "/var/folders/k7/rljyypp9343__2xr47zglj2c0000gn/T/ipykernel_59960/3981204416.py:2: FutureWarning: DataFrame.applymap has been deprecated. Use DataFrame.map instead.\n",
      "  X_val = X_val.applymap(lambda x: 1 if x == True else (0 if x == False else x))\n"
     ]
    }
   ],
   "source": [
    "X_train = X_train.applymap(lambda x: 1 if x == True else (0 if x == False else x))\n",
    "X_val = X_val.applymap(lambda x: 1 if x == True else (0 if x == False else x))"
   ]
  },
  {
   "cell_type": "code",
   "execution_count": 20,
   "metadata": {},
   "outputs": [
    {
     "name": "stdout",
     "output_type": "stream",
     "text": [
      "Optimization terminated successfully.\n",
      "         Current function value: 0.393728\n",
      "         Iterations 7\n"
     ]
    }
   ],
   "source": [
    "X_train = sm.add_constant(X_train)\n",
    "log_reg = sm.Logit(y_train, X_train).fit()"
   ]
  },
  {
   "cell_type": "code",
   "execution_count": 21,
   "metadata": {},
   "outputs": [
    {
     "data": {
      "text/html": [
       "<table class=\"simpletable\">\n",
       "<caption>Logit Regression Results</caption>\n",
       "<tr>\n",
       "  <th>Dep. Variable:</th>          <td>BAD</td>       <th>  No. Observations:  </th>   <td>  4768</td>  \n",
       "</tr>\n",
       "<tr>\n",
       "  <th>Model:</th>                 <td>Logit</td>      <th>  Df Residuals:      </th>   <td>  4751</td>  \n",
       "</tr>\n",
       "<tr>\n",
       "  <th>Method:</th>                 <td>MLE</td>       <th>  Df Model:          </th>   <td>    16</td>  \n",
       "</tr>\n",
       "<tr>\n",
       "  <th>Date:</th>            <td>Sat, 01 Mar 2025</td> <th>  Pseudo R-squ.:     </th>   <td>0.2129</td>  \n",
       "</tr>\n",
       "<tr>\n",
       "  <th>Time:</th>                <td>12:24:26</td>     <th>  Log-Likelihood:    </th>  <td> -1877.3</td> \n",
       "</tr>\n",
       "<tr>\n",
       "  <th>converged:</th>             <td>True</td>       <th>  LL-Null:           </th>  <td> -2385.1</td> \n",
       "</tr>\n",
       "<tr>\n",
       "  <th>Covariance Type:</th>     <td>nonrobust</td>    <th>  LLR p-value:       </th> <td>5.162e-206</td>\n",
       "</tr>\n",
       "</table>\n",
       "<table class=\"simpletable\">\n",
       "<tr>\n",
       "         <td></td>           <th>coef</th>     <th>std err</th>      <th>z</th>      <th>P>|z|</th>  <th>[0.025</th>    <th>0.975]</th>  \n",
       "</tr>\n",
       "<tr>\n",
       "  <th>const</th>          <td>   -2.5410</td> <td>    0.295</td> <td>   -8.626</td> <td> 0.000</td> <td>   -3.118</td> <td>   -1.964</td>\n",
       "</tr>\n",
       "<tr>\n",
       "  <th>LOAN</th>           <td>-2.135e-05</td> <td> 4.66e-06</td> <td>   -4.580</td> <td> 0.000</td> <td>-3.05e-05</td> <td>-1.22e-05</td>\n",
       "</tr>\n",
       "<tr>\n",
       "  <th>MORTDUE</th>        <td>-4.011e-06</td> <td> 1.56e-06</td> <td>   -2.576</td> <td> 0.010</td> <td>-7.06e-06</td> <td>-9.59e-07</td>\n",
       "</tr>\n",
       "<tr>\n",
       "  <th>VALUE</th>          <td> 4.355e-06</td> <td>  1.1e-06</td> <td>    3.967</td> <td> 0.000</td> <td>  2.2e-06</td> <td> 6.51e-06</td>\n",
       "</tr>\n",
       "<tr>\n",
       "  <th>YOJ</th>            <td>   -0.0164</td> <td>    0.006</td> <td>   -2.542</td> <td> 0.011</td> <td>   -0.029</td> <td>   -0.004</td>\n",
       "</tr>\n",
       "<tr>\n",
       "  <th>DEROG</th>          <td>    0.5523</td> <td>    0.053</td> <td>   10.382</td> <td> 0.000</td> <td>    0.448</td> <td>    0.657</td>\n",
       "</tr>\n",
       "<tr>\n",
       "  <th>DELINQ</th>         <td>    0.7550</td> <td>    0.042</td> <td>   17.816</td> <td> 0.000</td> <td>    0.672</td> <td>    0.838</td>\n",
       "</tr>\n",
       "<tr>\n",
       "  <th>CLAGE</th>          <td>   -0.0052</td> <td>    0.001</td> <td>   -8.593</td> <td> 0.000</td> <td>   -0.006</td> <td>   -0.004</td>\n",
       "</tr>\n",
       "<tr>\n",
       "  <th>NINQ</th>           <td>    0.1691</td> <td>    0.023</td> <td>    7.304</td> <td> 0.000</td> <td>    0.124</td> <td>    0.215</td>\n",
       "</tr>\n",
       "<tr>\n",
       "  <th>CLNO</th>           <td>   -0.0136</td> <td>    0.005</td> <td>   -2.805</td> <td> 0.005</td> <td>   -0.023</td> <td>   -0.004</td>\n",
       "</tr>\n",
       "<tr>\n",
       "  <th>DEBTINC</th>        <td>    0.0518</td> <td>    0.007</td> <td>    7.678</td> <td> 0.000</td> <td>    0.039</td> <td>    0.065</td>\n",
       "</tr>\n",
       "<tr>\n",
       "  <th>REASON_HomeImp</th> <td>    0.2246</td> <td>    0.094</td> <td>    2.398</td> <td> 0.016</td> <td>    0.041</td> <td>    0.408</td>\n",
       "</tr>\n",
       "<tr>\n",
       "  <th>JOB_Office</th>     <td>   -0.5561</td> <td>    0.167</td> <td>   -3.324</td> <td> 0.001</td> <td>   -0.884</td> <td>   -0.228</td>\n",
       "</tr>\n",
       "<tr>\n",
       "  <th>JOB_Other</th>      <td>    0.0423</td> <td>    0.130</td> <td>    0.326</td> <td> 0.744</td> <td>   -0.212</td> <td>    0.296</td>\n",
       "</tr>\n",
       "<tr>\n",
       "  <th>JOB_ProfExe</th>    <td>    0.0641</td> <td>    0.150</td> <td>    0.429</td> <td> 0.668</td> <td>   -0.229</td> <td>    0.357</td>\n",
       "</tr>\n",
       "<tr>\n",
       "  <th>JOB_Sales</th>      <td>    1.0797</td> <td>    0.292</td> <td>    3.698</td> <td> 0.000</td> <td>    0.508</td> <td>    1.652</td>\n",
       "</tr>\n",
       "<tr>\n",
       "  <th>JOB_Self</th>       <td>    0.5428</td> <td>    0.240</td> <td>    2.264</td> <td> 0.024</td> <td>    0.073</td> <td>    1.013</td>\n",
       "</tr>\n",
       "</table>"
      ],
      "text/latex": [
       "\\begin{center}\n",
       "\\begin{tabular}{lclc}\n",
       "\\toprule\n",
       "\\textbf{Dep. Variable:}   &       BAD        & \\textbf{  No. Observations:  } &     4768    \\\\\n",
       "\\textbf{Model:}           &      Logit       & \\textbf{  Df Residuals:      } &     4751    \\\\\n",
       "\\textbf{Method:}          &       MLE        & \\textbf{  Df Model:          } &       16    \\\\\n",
       "\\textbf{Date:}            & Sat, 01 Mar 2025 & \\textbf{  Pseudo R-squ.:     } &   0.2129    \\\\\n",
       "\\textbf{Time:}            &     12:24:26     & \\textbf{  Log-Likelihood:    } &   -1877.3   \\\\\n",
       "\\textbf{converged:}       &       True       & \\textbf{  LL-Null:           } &   -2385.1   \\\\\n",
       "\\textbf{Covariance Type:} &    nonrobust     & \\textbf{  LLR p-value:       } & 5.162e-206  \\\\\n",
       "\\bottomrule\n",
       "\\end{tabular}\n",
       "\\begin{tabular}{lcccccc}\n",
       "                         & \\textbf{coef} & \\textbf{std err} & \\textbf{z} & \\textbf{P$> |$z$|$} & \\textbf{[0.025} & \\textbf{0.975]}  \\\\\n",
       "\\midrule\n",
       "\\textbf{const}           &      -2.5410  &        0.295     &    -8.626  &         0.000        &       -3.118    &       -1.964     \\\\\n",
       "\\textbf{LOAN}            &   -2.135e-05  &     4.66e-06     &    -4.580  &         0.000        &    -3.05e-05    &    -1.22e-05     \\\\\n",
       "\\textbf{MORTDUE}         &   -4.011e-06  &     1.56e-06     &    -2.576  &         0.010        &    -7.06e-06    &    -9.59e-07     \\\\\n",
       "\\textbf{VALUE}           &    4.355e-06  &      1.1e-06     &     3.967  &         0.000        &      2.2e-06    &     6.51e-06     \\\\\n",
       "\\textbf{YOJ}             &      -0.0164  &        0.006     &    -2.542  &         0.011        &       -0.029    &       -0.004     \\\\\n",
       "\\textbf{DEROG}           &       0.5523  &        0.053     &    10.382  &         0.000        &        0.448    &        0.657     \\\\\n",
       "\\textbf{DELINQ}          &       0.7550  &        0.042     &    17.816  &         0.000        &        0.672    &        0.838     \\\\\n",
       "\\textbf{CLAGE}           &      -0.0052  &        0.001     &    -8.593  &         0.000        &       -0.006    &       -0.004     \\\\\n",
       "\\textbf{NINQ}            &       0.1691  &        0.023     &     7.304  &         0.000        &        0.124    &        0.215     \\\\\n",
       "\\textbf{CLNO}            &      -0.0136  &        0.005     &    -2.805  &         0.005        &       -0.023    &       -0.004     \\\\\n",
       "\\textbf{DEBTINC}         &       0.0518  &        0.007     &     7.678  &         0.000        &        0.039    &        0.065     \\\\\n",
       "\\textbf{REASON\\_HomeImp} &       0.2246  &        0.094     &     2.398  &         0.016        &        0.041    &        0.408     \\\\\n",
       "\\textbf{JOB\\_Office}     &      -0.5561  &        0.167     &    -3.324  &         0.001        &       -0.884    &       -0.228     \\\\\n",
       "\\textbf{JOB\\_Other}      &       0.0423  &        0.130     &     0.326  &         0.744        &       -0.212    &        0.296     \\\\\n",
       "\\textbf{JOB\\_ProfExe}    &       0.0641  &        0.150     &     0.429  &         0.668        &       -0.229    &        0.357     \\\\\n",
       "\\textbf{JOB\\_Sales}      &       1.0797  &        0.292     &     3.698  &         0.000        &        0.508    &        1.652     \\\\\n",
       "\\textbf{JOB\\_Self}       &       0.5428  &        0.240     &     2.264  &         0.024        &        0.073    &        1.013     \\\\\n",
       "\\bottomrule\n",
       "\\end{tabular}\n",
       "%\\caption{Logit Regression Results}\n",
       "\\end{center}"
      ],
      "text/plain": [
       "<class 'statsmodels.iolib.summary.Summary'>\n",
       "\"\"\"\n",
       "                           Logit Regression Results                           \n",
       "==============================================================================\n",
       "Dep. Variable:                    BAD   No. Observations:                 4768\n",
       "Model:                          Logit   Df Residuals:                     4751\n",
       "Method:                           MLE   Df Model:                           16\n",
       "Date:                Sat, 01 Mar 2025   Pseudo R-squ.:                  0.2129\n",
       "Time:                        12:24:26   Log-Likelihood:                -1877.3\n",
       "converged:                       True   LL-Null:                       -2385.1\n",
       "Covariance Type:            nonrobust   LLR p-value:                5.162e-206\n",
       "==================================================================================\n",
       "                     coef    std err          z      P>|z|      [0.025      0.975]\n",
       "----------------------------------------------------------------------------------\n",
       "const             -2.5410      0.295     -8.626      0.000      -3.118      -1.964\n",
       "LOAN           -2.135e-05   4.66e-06     -4.580      0.000   -3.05e-05   -1.22e-05\n",
       "MORTDUE        -4.011e-06   1.56e-06     -2.576      0.010   -7.06e-06   -9.59e-07\n",
       "VALUE           4.355e-06    1.1e-06      3.967      0.000     2.2e-06    6.51e-06\n",
       "YOJ               -0.0164      0.006     -2.542      0.011      -0.029      -0.004\n",
       "DEROG              0.5523      0.053     10.382      0.000       0.448       0.657\n",
       "DELINQ             0.7550      0.042     17.816      0.000       0.672       0.838\n",
       "CLAGE             -0.0052      0.001     -8.593      0.000      -0.006      -0.004\n",
       "NINQ               0.1691      0.023      7.304      0.000       0.124       0.215\n",
       "CLNO              -0.0136      0.005     -2.805      0.005      -0.023      -0.004\n",
       "DEBTINC            0.0518      0.007      7.678      0.000       0.039       0.065\n",
       "REASON_HomeImp     0.2246      0.094      2.398      0.016       0.041       0.408\n",
       "JOB_Office        -0.5561      0.167     -3.324      0.001      -0.884      -0.228\n",
       "JOB_Other          0.0423      0.130      0.326      0.744      -0.212       0.296\n",
       "JOB_ProfExe        0.0641      0.150      0.429      0.668      -0.229       0.357\n",
       "JOB_Sales          1.0797      0.292      3.698      0.000       0.508       1.652\n",
       "JOB_Self           0.5428      0.240      2.264      0.024       0.073       1.013\n",
       "==================================================================================\n",
       "\"\"\""
      ]
     },
     "execution_count": 21,
     "metadata": {},
     "output_type": "execute_result"
    }
   ],
   "source": [
    "log_reg.summary()"
   ]
  },
  {
   "cell_type": "markdown",
   "metadata": {},
   "source": [
    "Next, we run the prediction on the training set"
   ]
  },
  {
   "cell_type": "code",
   "execution_count": 23,
   "metadata": {},
   "outputs": [],
   "source": [
    "y_pred_train = log_reg.predict(X_train)"
   ]
  },
  {
   "cell_type": "code",
   "execution_count": 24,
   "metadata": {},
   "outputs": [
    {
     "data": {
      "text/plain": [
       "5518    0.066901\n",
       "25      0.268684\n",
       "1324    0.064969\n",
       "4466    0.136126\n",
       "1901    0.687014\n",
       "          ...   \n",
       "350     0.108476\n",
       "79      0.400290\n",
       "3927    0.985824\n",
       "5955    0.017869\n",
       "5640    0.098989\n",
       "Length: 4768, dtype: float64"
      ]
     },
     "execution_count": 24,
     "metadata": {},
     "output_type": "execute_result"
    }
   ],
   "source": [
    "y_pred_train"
   ]
  },
  {
   "cell_type": "markdown",
   "metadata": {},
   "source": [
    "I will use the default threshold of 0.5\n",
    "- If p ≥ 0.5: predict as group 1 (default).\n",
    "- If p < 0.5: predict as group 0 (likely to repay)"
   ]
  },
  {
   "cell_type": "code",
   "execution_count": 25,
   "metadata": {},
   "outputs": [],
   "source": [
    "cutoff = 0.5\n",
    "y_pred_train = (y_pred_train > cutoff).astype(int)"
   ]
  },
  {
   "cell_type": "code",
   "execution_count": 26,
   "metadata": {},
   "outputs": [
    {
     "data": {
      "text/plain": [
       "5518    0\n",
       "25      0\n",
       "1324    0\n",
       "4466    0\n",
       "1901    1\n",
       "       ..\n",
       "350     0\n",
       "79      0\n",
       "3927    1\n",
       "5955    0\n",
       "5640    0\n",
       "Length: 4768, dtype: int64"
      ]
     },
     "execution_count": 26,
     "metadata": {},
     "output_type": "execute_result"
    }
   ],
   "source": [
    "y_pred_train"
   ]
  },
  {
   "cell_type": "markdown",
   "metadata": {},
   "source": [
    "Similarly, I will make predictions on the validation set"
   ]
  },
  {
   "cell_type": "code",
   "execution_count": 27,
   "metadata": {},
   "outputs": [],
   "source": [
    "X_val = sm.add_constant(X_val)\n",
    "y_pred_val = log_reg.predict(X_val)\n",
    "y_pred_val = (y_pred_val > cutoff).astype(int)"
   ]
  },
  {
   "cell_type": "markdown",
   "metadata": {},
   "source": [
    "IV. MODEL EVALUATION"
   ]
  },
  {
   "cell_type": "markdown",
   "metadata": {},
   "source": [
    "I calculate the metrics of accuracy, precision, recall, and F1 to evaluate the effectiveness of the classification model."
   ]
  },
  {
   "cell_type": "code",
   "execution_count": 28,
   "metadata": {},
   "outputs": [],
   "source": [
    "from sklearn.metrics import accuracy_score, precision_score, recall_score, f1_score"
   ]
  },
  {
   "cell_type": "code",
   "execution_count": 29,
   "metadata": {},
   "outputs": [],
   "source": [
    "acc_train = accuracy_score(y_train,y_pred_train)\n",
    "acc_val = accuracy_score(y_val,y_pred_val)\n"
   ]
  },
  {
   "cell_type": "code",
   "execution_count": 36,
   "metadata": {},
   "outputs": [
    {
     "name": "stdout",
     "output_type": "stream",
     "text": [
      "Accuracy of train set : 0.8378775167785235\n",
      "Accuracy of val set: 0.837248322147651\n"
     ]
    }
   ],
   "source": [
    "print(f\"Accuracy of train set : {acc_train}\")\n",
    "print(f\"Accuracy of val set: {acc_val}\")"
   ]
  },
  {
   "cell_type": "code",
   "execution_count": 32,
   "metadata": {},
   "outputs": [],
   "source": [
    "precision_train = precision_score(y_train,y_pred_train)\n",
    "precision_val = precision_score(y_val,y_pred_val)"
   ]
  },
  {
   "cell_type": "code",
   "execution_count": 37,
   "metadata": {},
   "outputs": [
    {
     "name": "stdout",
     "output_type": "stream",
     "text": [
      "Precision of train set : 0.725\n",
      "Precision of val set : 0.71\n"
     ]
    }
   ],
   "source": [
    "print(f\"Precision of train set : {precision_train}\")\n",
    "print(f\"Precision of val set : {precision_val}\")"
   ]
  },
  {
   "cell_type": "code",
   "execution_count": 34,
   "metadata": {},
   "outputs": [],
   "source": [
    "recall_train = recall_score(y_train,y_pred_train)\n",
    "recall_val = recall_score(y_val,y_pred_val)"
   ]
  },
  {
   "cell_type": "code",
   "execution_count": 38,
   "metadata": {},
   "outputs": [
    {
     "name": "stdout",
     "output_type": "stream",
     "text": [
      "Recall of train set : 0.304302203567681\n",
      "Recall of val set : 0.3008474576271186\n"
     ]
    }
   ],
   "source": [
    "print(f\"Recall of train set : {recall_train}\")\n",
    "print(f\"Recall of val set : {recall_val}\")"
   ]
  },
  {
   "cell_type": "code",
   "execution_count": 39,
   "metadata": {},
   "outputs": [],
   "source": [
    "f1_train = f1_score(y_train,y_pred_train)\n",
    "f1_val = f1_score(y_val,y_pred_val)"
   ]
  },
  {
   "cell_type": "code",
   "execution_count": 40,
   "metadata": {},
   "outputs": [
    {
     "name": "stdout",
     "output_type": "stream",
     "text": [
      "F1 score of train set : 0.4286770140428677\n",
      "F1 score  of val set : 0.4226190476190476\n"
     ]
    }
   ],
   "source": [
    "print(f\"F1 score of train set : {f1_train}\")\n",
    "print(f\"F1 score  of val set : {f1_val}\")"
   ]
  },
  {
   "cell_type": "markdown",
   "metadata": {},
   "source": [
    "Looking at the results, we can see that there is no significant difference between the results on the train and validation sets, indicating that the model is not overfitting.\n",
    "\n",
    "However, when examining the individual metrics, we find that precision is high (~72%), suggesting that the model is predicting group 1 (defaults) fairly accurately. On the other hand, recall is low, indicating that the model is missing a considerable number of cases where the true label is group 1 (but the model predicts group 0). The combination of high precision and low recall results in a low F1 score.\n",
    "\n",
    "In practice, missing many default loans could lead to significant losses for the bank, so the bank would want to capture as many defaults as possible, meaning a higher recall is needed.\n",
    "\n",
    "To increase recall, we could consider selecting a lower cutoff threshold."
   ]
  },
  {
   "cell_type": "code",
   "execution_count": 60,
   "metadata": {},
   "outputs": [],
   "source": [
    "\n",
    "import numpy as np\n",
    "from sklearn.linear_model import LogisticRegression\n",
    "import matplotlib.pyplot as plt"
   ]
  },
  {
   "cell_type": "code",
   "execution_count": 61,
   "metadata": {},
   "outputs": [
    {
     "name": "stderr",
     "output_type": "stream",
     "text": [
      "/Users/trangdang/Documents/Project/Linear Regression/myenv/lib/python3.9/site-packages/sklearn/linear_model/_logistic.py:465: ConvergenceWarning: lbfgs failed to converge (status=1):\n",
      "STOP: TOTAL NO. of ITERATIONS REACHED LIMIT.\n",
      "\n",
      "Increase the number of iterations (max_iter) or scale the data as shown in:\n",
      "    https://scikit-learn.org/stable/modules/preprocessing.html\n",
      "Please also refer to the documentation for alternative solver options:\n",
      "    https://scikit-learn.org/stable/modules/linear_model.html#logistic-regression\n",
      "  n_iter_i = _check_optimize_result(\n"
     ]
    }
   ],
   "source": [
    "\n",
    "model = LogisticRegression()\n",
    "model.fit(X_train, y_train)\n",
    "\n",
    "y_probs = model.predict_proba(X_val)[:, 1]  \n",
    "\n",
    "cutoffs = np.arange(0.0, 1.0, 0.01)"
   ]
  },
  {
   "cell_type": "code",
   "execution_count": 62,
   "metadata": {},
   "outputs": [
    {
     "name": "stderr",
     "output_type": "stream",
     "text": [
      "/Users/trangdang/Documents/Project/Linear Regression/myenv/lib/python3.9/site-packages/sklearn/metrics/_classification.py:1565: UndefinedMetricWarning: Precision is ill-defined and being set to 0.0 due to no predicted samples. Use `zero_division` parameter to control this behavior.\n",
      "  _warn_prf(average, modifier, f\"{metric.capitalize()} is\", len(result))\n",
      "/Users/trangdang/Documents/Project/Linear Regression/myenv/lib/python3.9/site-packages/sklearn/metrics/_classification.py:1565: UndefinedMetricWarning: Precision is ill-defined and being set to 0.0 due to no predicted samples. Use `zero_division` parameter to control this behavior.\n",
      "  _warn_prf(average, modifier, f\"{metric.capitalize()} is\", len(result))\n",
      "/Users/trangdang/Documents/Project/Linear Regression/myenv/lib/python3.9/site-packages/sklearn/metrics/_classification.py:1565: UndefinedMetricWarning: Precision is ill-defined and being set to 0.0 due to no predicted samples. Use `zero_division` parameter to control this behavior.\n",
      "  _warn_prf(average, modifier, f\"{metric.capitalize()} is\", len(result))\n",
      "/Users/trangdang/Documents/Project/Linear Regression/myenv/lib/python3.9/site-packages/sklearn/metrics/_classification.py:1565: UndefinedMetricWarning: Precision is ill-defined and being set to 0.0 due to no predicted samples. Use `zero_division` parameter to control this behavior.\n",
      "  _warn_prf(average, modifier, f\"{metric.capitalize()} is\", len(result))\n",
      "/Users/trangdang/Documents/Project/Linear Regression/myenv/lib/python3.9/site-packages/sklearn/metrics/_classification.py:1565: UndefinedMetricWarning: Precision is ill-defined and being set to 0.0 due to no predicted samples. Use `zero_division` parameter to control this behavior.\n",
      "  _warn_prf(average, modifier, f\"{metric.capitalize()} is\", len(result))\n",
      "/Users/trangdang/Documents/Project/Linear Regression/myenv/lib/python3.9/site-packages/sklearn/metrics/_classification.py:1565: UndefinedMetricWarning: Precision is ill-defined and being set to 0.0 due to no predicted samples. Use `zero_division` parameter to control this behavior.\n",
      "  _warn_prf(average, modifier, f\"{metric.capitalize()} is\", len(result))\n",
      "/Users/trangdang/Documents/Project/Linear Regression/myenv/lib/python3.9/site-packages/sklearn/metrics/_classification.py:1565: UndefinedMetricWarning: Precision is ill-defined and being set to 0.0 due to no predicted samples. Use `zero_division` parameter to control this behavior.\n",
      "  _warn_prf(average, modifier, f\"{metric.capitalize()} is\", len(result))\n",
      "/Users/trangdang/Documents/Project/Linear Regression/myenv/lib/python3.9/site-packages/sklearn/metrics/_classification.py:1565: UndefinedMetricWarning: Precision is ill-defined and being set to 0.0 due to no predicted samples. Use `zero_division` parameter to control this behavior.\n",
      "  _warn_prf(average, modifier, f\"{metric.capitalize()} is\", len(result))\n",
      "/Users/trangdang/Documents/Project/Linear Regression/myenv/lib/python3.9/site-packages/sklearn/metrics/_classification.py:1565: UndefinedMetricWarning: Precision is ill-defined and being set to 0.0 due to no predicted samples. Use `zero_division` parameter to control this behavior.\n",
      "  _warn_prf(average, modifier, f\"{metric.capitalize()} is\", len(result))\n",
      "/Users/trangdang/Documents/Project/Linear Regression/myenv/lib/python3.9/site-packages/sklearn/metrics/_classification.py:1565: UndefinedMetricWarning: Precision is ill-defined and being set to 0.0 due to no predicted samples. Use `zero_division` parameter to control this behavior.\n",
      "  _warn_prf(average, modifier, f\"{metric.capitalize()} is\", len(result))\n",
      "/Users/trangdang/Documents/Project/Linear Regression/myenv/lib/python3.9/site-packages/sklearn/metrics/_classification.py:1565: UndefinedMetricWarning: Precision is ill-defined and being set to 0.0 due to no predicted samples. Use `zero_division` parameter to control this behavior.\n",
      "  _warn_prf(average, modifier, f\"{metric.capitalize()} is\", len(result))\n",
      "/Users/trangdang/Documents/Project/Linear Regression/myenv/lib/python3.9/site-packages/sklearn/metrics/_classification.py:1565: UndefinedMetricWarning: Precision is ill-defined and being set to 0.0 due to no predicted samples. Use `zero_division` parameter to control this behavior.\n",
      "  _warn_prf(average, modifier, f\"{metric.capitalize()} is\", len(result))\n",
      "/Users/trangdang/Documents/Project/Linear Regression/myenv/lib/python3.9/site-packages/sklearn/metrics/_classification.py:1565: UndefinedMetricWarning: Precision is ill-defined and being set to 0.0 due to no predicted samples. Use `zero_division` parameter to control this behavior.\n",
      "  _warn_prf(average, modifier, f\"{metric.capitalize()} is\", len(result))\n",
      "/Users/trangdang/Documents/Project/Linear Regression/myenv/lib/python3.9/site-packages/sklearn/metrics/_classification.py:1565: UndefinedMetricWarning: Precision is ill-defined and being set to 0.0 due to no predicted samples. Use `zero_division` parameter to control this behavior.\n",
      "  _warn_prf(average, modifier, f\"{metric.capitalize()} is\", len(result))\n",
      "/Users/trangdang/Documents/Project/Linear Regression/myenv/lib/python3.9/site-packages/sklearn/metrics/_classification.py:1565: UndefinedMetricWarning: Precision is ill-defined and being set to 0.0 due to no predicted samples. Use `zero_division` parameter to control this behavior.\n",
      "  _warn_prf(average, modifier, f\"{metric.capitalize()} is\", len(result))\n",
      "/Users/trangdang/Documents/Project/Linear Regression/myenv/lib/python3.9/site-packages/sklearn/metrics/_classification.py:1565: UndefinedMetricWarning: Precision is ill-defined and being set to 0.0 due to no predicted samples. Use `zero_division` parameter to control this behavior.\n",
      "  _warn_prf(average, modifier, f\"{metric.capitalize()} is\", len(result))\n",
      "/Users/trangdang/Documents/Project/Linear Regression/myenv/lib/python3.9/site-packages/sklearn/metrics/_classification.py:1565: UndefinedMetricWarning: Precision is ill-defined and being set to 0.0 due to no predicted samples. Use `zero_division` parameter to control this behavior.\n",
      "  _warn_prf(average, modifier, f\"{metric.capitalize()} is\", len(result))\n",
      "/Users/trangdang/Documents/Project/Linear Regression/myenv/lib/python3.9/site-packages/sklearn/metrics/_classification.py:1565: UndefinedMetricWarning: Precision is ill-defined and being set to 0.0 due to no predicted samples. Use `zero_division` parameter to control this behavior.\n",
      "  _warn_prf(average, modifier, f\"{metric.capitalize()} is\", len(result))\n",
      "/Users/trangdang/Documents/Project/Linear Regression/myenv/lib/python3.9/site-packages/sklearn/metrics/_classification.py:1565: UndefinedMetricWarning: Precision is ill-defined and being set to 0.0 due to no predicted samples. Use `zero_division` parameter to control this behavior.\n",
      "  _warn_prf(average, modifier, f\"{metric.capitalize()} is\", len(result))\n",
      "/Users/trangdang/Documents/Project/Linear Regression/myenv/lib/python3.9/site-packages/sklearn/metrics/_classification.py:1565: UndefinedMetricWarning: Precision is ill-defined and being set to 0.0 due to no predicted samples. Use `zero_division` parameter to control this behavior.\n",
      "  _warn_prf(average, modifier, f\"{metric.capitalize()} is\", len(result))\n",
      "/Users/trangdang/Documents/Project/Linear Regression/myenv/lib/python3.9/site-packages/sklearn/metrics/_classification.py:1565: UndefinedMetricWarning: Precision is ill-defined and being set to 0.0 due to no predicted samples. Use `zero_division` parameter to control this behavior.\n",
      "  _warn_prf(average, modifier, f\"{metric.capitalize()} is\", len(result))\n",
      "/Users/trangdang/Documents/Project/Linear Regression/myenv/lib/python3.9/site-packages/sklearn/metrics/_classification.py:1565: UndefinedMetricWarning: Precision is ill-defined and being set to 0.0 due to no predicted samples. Use `zero_division` parameter to control this behavior.\n",
      "  _warn_prf(average, modifier, f\"{metric.capitalize()} is\", len(result))\n",
      "/Users/trangdang/Documents/Project/Linear Regression/myenv/lib/python3.9/site-packages/sklearn/metrics/_classification.py:1565: UndefinedMetricWarning: Precision is ill-defined and being set to 0.0 due to no predicted samples. Use `zero_division` parameter to control this behavior.\n",
      "  _warn_prf(average, modifier, f\"{metric.capitalize()} is\", len(result))\n",
      "/Users/trangdang/Documents/Project/Linear Regression/myenv/lib/python3.9/site-packages/sklearn/metrics/_classification.py:1565: UndefinedMetricWarning: Precision is ill-defined and being set to 0.0 due to no predicted samples. Use `zero_division` parameter to control this behavior.\n",
      "  _warn_prf(average, modifier, f\"{metric.capitalize()} is\", len(result))\n",
      "/Users/trangdang/Documents/Project/Linear Regression/myenv/lib/python3.9/site-packages/sklearn/metrics/_classification.py:1565: UndefinedMetricWarning: Precision is ill-defined and being set to 0.0 due to no predicted samples. Use `zero_division` parameter to control this behavior.\n",
      "  _warn_prf(average, modifier, f\"{metric.capitalize()} is\", len(result))\n",
      "/Users/trangdang/Documents/Project/Linear Regression/myenv/lib/python3.9/site-packages/sklearn/metrics/_classification.py:1565: UndefinedMetricWarning: Precision is ill-defined and being set to 0.0 due to no predicted samples. Use `zero_division` parameter to control this behavior.\n",
      "  _warn_prf(average, modifier, f\"{metric.capitalize()} is\", len(result))\n",
      "/Users/trangdang/Documents/Project/Linear Regression/myenv/lib/python3.9/site-packages/sklearn/metrics/_classification.py:1565: UndefinedMetricWarning: Precision is ill-defined and being set to 0.0 due to no predicted samples. Use `zero_division` parameter to control this behavior.\n",
      "  _warn_prf(average, modifier, f\"{metric.capitalize()} is\", len(result))\n",
      "/Users/trangdang/Documents/Project/Linear Regression/myenv/lib/python3.9/site-packages/sklearn/metrics/_classification.py:1565: UndefinedMetricWarning: Precision is ill-defined and being set to 0.0 due to no predicted samples. Use `zero_division` parameter to control this behavior.\n",
      "  _warn_prf(average, modifier, f\"{metric.capitalize()} is\", len(result))\n",
      "/Users/trangdang/Documents/Project/Linear Regression/myenv/lib/python3.9/site-packages/sklearn/metrics/_classification.py:1565: UndefinedMetricWarning: Precision is ill-defined and being set to 0.0 due to no predicted samples. Use `zero_division` parameter to control this behavior.\n",
      "  _warn_prf(average, modifier, f\"{metric.capitalize()} is\", len(result))\n"
     ]
    },
    {
     "data": {
      "image/png": "[encoded data removed]",
      "text/plain": [
       "<Figure size 1000x600 with 1 Axes>"
      ]
     },
     "metadata": {},
     "output_type": "display_data"
    }
   ],
   "source": [
    "precision = []\n",
    "recall = []\n",
    "f1 = []\n",
    "for cutoff in cutoffs:\n",
    "    y_pred = (y_probs >= cutoff).astype(int)\n",
    "    precision.append(precision_score(y_val, y_pred))\n",
    "    recall.append(recall_score(y_val, y_pred))\n",
    "    f1.append(f1_score(y_val, y_pred))\n",
    "\n",
    "plt.figure(figsize=(10, 6))\n",
    "plt.plot(cutoffs, recall, label='Recall', color='b', linestyle='-')\n",
    "plt.plot(cutoffs, f1, label='F1', color='orange', linestyle='-')\n",
    "plt.plot(cutoffs, precision, label='Precision', color='g', linestyle='-')\n",
    "\n",
    "plt.title('Precision, Recall, and F1 Score vs Cutoff')\n",
    "plt.xlabel('Cutoff')\n",
    "plt.ylabel('Score')\n",
    "\n",
    "plt.legend()\n",
    "\n",
    "# Hiển thị grid và biểu đồ\n",
    "plt.grid(True)\n",
    "plt.show()"
   ]
  }
 ],
 "metadata": {
  "kernelspec": {
   "display_name": "myenv",
   "language": "python",
   "name": "python3"
  },
  "language_info": {
   "codemirror_mode": {
    "name": "ipython",
    "version": 3
   },
   "file_extension": ".py",
   "mimetype": "text/x-python",
   "name": "python",
   "nbconvert_exporter": "python",
   "pygments_lexer": "ipython3",
   "version": "3.9.2"
  }
 },
 "nbformat": 4,
 "nbformat_minor": 2
}
